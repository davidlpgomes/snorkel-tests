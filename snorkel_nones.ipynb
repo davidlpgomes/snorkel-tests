{
 "cells": [
  {
   "cell_type": "code",
   "execution_count": null,
   "id": "40d1513d-70f7-4bb9-8fa1-55e2a0af8ce0",
   "metadata": {
    "tags": []
   },
   "outputs": [],
   "source": [
    "import gensim\n",
    "\n",
    "import numpy as np\n",
    "import pandas as pd\n",
    "import matplotlib.pyplot as plt\n",
    "\n",
    "from snorkel.labeling import labeling_function, PandasLFApplier, LFAnalysis, filter_unlabeled_dataframe\n",
    "from snorkel.labeling.model import MajorityLabelVoter, LabelModel\n",
    "from snorkel.utils import probs_to_preds\n",
    "\n",
    "from sklearn.ensemble import RandomForestClassifier\n",
    "from sklearn.neighbors import KNeighborsClassifier\n",
    "from sklearn.tree import DecisionTreeClassifier\n",
    "from sklearn.model_selection import train_test_split\n",
    "from sklearn.metrics import accuracy_score, f1_score, precision_score, recall_score, precision_recall_curve\n",
    "\n",
    "from river.tree import HoeffdingTreeClassifier\n",
    "\n",
    "from tqdm import tqdm"
   ]
  },
  {
   "cell_type": "code",
   "execution_count": 28,
   "id": "b76532e0-6481-403d-903a-d685e3dfcf0f",
   "metadata": {
    "tags": []
   },
   "outputs": [],
   "source": [
    "VECTOR_SIZE = 300\n",
    "WINDOW_SIZE = 10\n",
    "MIN_COUNT = 2\n",
    "WORKERS = 12"
   ]
  },
  {
   "cell_type": "code",
   "execution_count": 29,
   "id": "da33455a-7ed7-4aad-9b4c-b20b2c2a099e",
   "metadata": {
    "tags": []
   },
   "outputs": [],
   "source": [
    "LABELS = {\n",
    "    'None': 0,\n",
    "    'Gain privileges': 1,\n",
    "    'Sql Injection': 2,\n",
    "    'Obtain Information': 3,\n",
    "    'Memory corruption': 4,\n",
    "    'CSRF': 5,\n",
    "    'Execute Code': 6,\n",
    "    'Denial Of Service': 7,\n",
    "    'Cross Site Scripting': 8,\n",
    "    'Http response splitting': 9,\n",
    "    'Directory traversal': 10,\n",
    "    'Bypass a restriction or similar': 11,\n",
    "    'Overflow': 12\n",
    "}\n",
    "ABSTAIN = -1"
   ]
  },
  {
   "cell_type": "code",
   "execution_count": 30,
   "id": "bef5aa0a-2b47-4093-b274-854243dd4253",
   "metadata": {
    "tags": []
   },
   "outputs": [],
   "source": [
    "all_summaries = pd.read_csv('all_cves.csv')['summary'].to_numpy()"
   ]
  },
  {
   "cell_type": "code",
   "execution_count": 31,
   "id": "a483b212-59c6-4cb5-b527-75561a2bd6d8",
   "metadata": {
    "tags": []
   },
   "outputs": [],
   "source": [
    "cves = pd.read_csv('cves_labeled.csv').drop('Unnamed: 0', axis=1).reset_index(drop=True)\n",
    "\n",
    "multiple_labels_idxs = [i for i in range(cves.shape[0]) if ',' in cves['labels'][i]]\n",
    "cves = cves.drop(multiple_labels_idxs).reset_index(drop=True)"
   ]
  },
  {
   "cell_type": "code",
   "execution_count": 32,
   "id": "610f43da-97e6-4dae-a67d-94f4298fbc18",
   "metadata": {
    "tags": []
   },
   "outputs": [],
   "source": [
    "# Drop None from data\n",
    "cves_none = cves[cves['labels'] == 'None'].reset_index(drop=True)\n",
    "none_summaries = cves_none['summary'].to_list()\n",
    "\n",
    "none_idxs = [i for i in range(cves.shape[0]) if cves['labels'][i] == 'None']\n",
    "cves = cves.drop(none_idxs).reset_index(drop=True)"
   ]
  },
  {
   "cell_type": "code",
   "execution_count": 33,
   "id": "da346199-6a7b-48d7-8944-86e02291da49",
   "metadata": {
    "tags": []
   },
   "outputs": [],
   "source": [
    "# Naive labeling functions\n",
    "# Memory corruption labeling functions\n",
    "@labeling_function()\n",
    "def lf_has_memory(x):\n",
    "    return LABELS['Memory corruption'] if 'memory' in x.summary.lower() else ABSTAIN\n",
    "\n",
    "@labeling_function()\n",
    "def lf_has_corruption(x):\n",
    "    return LABELS['Memory corruption'] if 'corruption' in x.summary.lower() else ABSTAIN\n",
    "\n",
    "\n",
    "# Gain privileges labeling functions\n",
    "@labeling_function()\n",
    "def lf_has_gain(x):\n",
    "    return LABELS['Gain privileges'] if 'gain' in x.summary.lower() else ABSTAIN\n",
    "\n",
    "@labeling_function()\n",
    "def lf_has_privilege(x):\n",
    "    return LABELS['Gain privileges'] if 'privilege' in x.summary.lower() else ABSTAIN\n",
    "\n",
    "@labeling_function()\n",
    "def lf_has_gain_privilege(x):\n",
    "    return LABELS['Gain privileges'] if 'gain privilege' in x.summary.lower() else ABSTAIN\n",
    "\n",
    "\n",
    "# Obtain Information labeling functions\n",
    "@labeling_function()\n",
    "def lf_has_obtain(x):\n",
    "    return LABELS['Obtain Information'] if 'obtain' in x.summary.lower() else ABSTAIN\n",
    "\n",
    "@labeling_function()\n",
    "def lf_has_information(x):\n",
    "    return LABELS['Obtain Information'] if 'information' in x.summary.lower() else ABSTAIN\n",
    "\n",
    "# # None labeling functions\n",
    "# @labeling_function()\n",
    "# def lf_has_user(x):\n",
    "#     return LABELS['None'] if 'user' in x.summary.lower() else ABSTAIN\n",
    "\n",
    "\n",
    "# Sql Injection labeling functions\n",
    "@labeling_function()\n",
    "def lf_has_sql(x):\n",
    "    return LABELS['Sql Injection'] if 'sql' in x.summary.lower() else ABSTAIN\n",
    "\n",
    "@labeling_function()\n",
    "def lf_has_injection(x):\n",
    "    return LABELS['Sql Injection'] if 'injection' in x.summary.lower() else ABSTAIN\n",
    "\n",
    "\n",
    "# CSRF labeling functions\n",
    "@labeling_function()\n",
    "def lf_has_csrf(x):\n",
    "    return LABELS['CSRF'] if 'csrf' in x.summary.lower() else ABSTAIN\n",
    "\n",
    "\n",
    "# Execute Code labeling functions\n",
    "@labeling_function()\n",
    "def lf_has_code(x):\n",
    "    return LABELS['Execute Code'] if 'code' in x.summary.lower() else ABSTAIN\n",
    "\n",
    "@labeling_function()\n",
    "def lf_has_execution(x):\n",
    "    return LABELS['Execute Code'] if 'execution' in x.summary.lower() else ABSTAIN\n",
    "\n",
    "\n",
    "# Denial Of Service labeling functions\n",
    "@labeling_function()\n",
    "def lf_has_denial(x):\n",
    "    return LABELS['Denial Of Service'] if 'denial' in x.summary.lower() else ABSTAIN\n",
    "\n",
    "@labeling_function()\n",
    "def lf_has_service(x):\n",
    "    return LABELS['Denial Of Service'] if 'service' in x.summary.lower() else ABSTAIN\n",
    "\n",
    "\n",
    "# Cross Site Scripting labeling functions\n",
    "@labeling_function()\n",
    "def lf_has_crosssite(x):\n",
    "    return LABELS['Cross Site Scripting'] if 'cross-site' in x.summary.lower() else ABSTAIN\n",
    "\n",
    "@labeling_function()\n",
    "def lf_has_scripting(x):\n",
    "    return LABELS['Cross Site Scripting'] if 'scripting' in x.summary.lower() else ABSTAIN\n",
    "\n",
    "\n",
    "# Http response splitting labeling functions\n",
    "@labeling_function()\n",
    "def lf_has_html(x):\n",
    "    return LABELS['Http response splitting'] if 'html' in x.summary.lower() else ABSTAIN\n",
    "\n",
    "\n",
    "# Directory traversal labeling functions\n",
    "@labeling_function()\n",
    "def lf_has_traversal(x):\n",
    "    return LABELS['Directory traversal'] if 'traversal' in x.summary.lower() else ABSTAIN\n",
    "\n",
    "@labeling_function()\n",
    "def lf_has_directory(x):\n",
    "    return LABELS['Directory traversal'] if 'directory' in x.summary.lower() else ABSTAIN\n",
    "\n",
    "@labeling_function()\n",
    "def lf_has_files(x):\n",
    "    return LABELS['Directory traversal'] if 'files' in x.summary.lower() else ABSTAIN\n",
    "\n",
    "\n",
    "# Bypass a restriction or similar labeling functions\n",
    "@labeling_function()\n",
    "def lf_has_bypass(x):\n",
    "    return LABELS['Bypass a restriction or similar'] if 'bypass' in x.summary.lower() else ABSTAIN\n",
    "\n",
    "\n",
    "# Overflow labeling functions\n",
    "@labeling_function()\n",
    "def lf_has_overflow(x):\n",
    "    return LABELS['Overflow'] if 'overflow' in x.summary.lower() else ABSTAIN\n",
    "\n",
    "@labeling_function()\n",
    "def lf_has_buffer(x):\n",
    "    return LABELS['Overflow'] if 'buffer' in x.summary.lower() else ABSTAIN\n",
    "\n",
    "@labeling_function()\n",
    "def lf_has_heap(x):\n",
    "    return LABELS['Overflow'] if 'heap' in x.summary.lower() else ABSTAIN"
   ]
  },
  {
   "cell_type": "code",
   "execution_count": 34,
   "id": "9c8b0ae4-8851-4cf4-a502-0ebb4a1f5c5f",
   "metadata": {
    "tags": []
   },
   "outputs": [
    {
     "data": {
      "text/plain": [
       "24"
      ]
     },
     "execution_count": 34,
     "metadata": {},
     "output_type": "execute_result"
    }
   ],
   "source": [
    "lfs = [\n",
    "    lf_has_memory,\n",
    "    lf_has_corruption,\n",
    "    lf_has_gain,\n",
    "    lf_has_privilege,\n",
    "    lf_has_gain_privilege,\n",
    "    lf_has_obtain,\n",
    "    lf_has_information,\n",
    "    # lf_has_user,\n",
    "    lf_has_sql,\n",
    "    lf_has_injection,\n",
    "    lf_has_csrf,\n",
    "    lf_has_code,\n",
    "    lf_has_execution,\n",
    "    lf_has_denial,\n",
    "    lf_has_service,\n",
    "    lf_has_crosssite,\n",
    "    lf_has_scripting,\n",
    "    lf_has_html,\n",
    "    lf_has_traversal,\n",
    "    lf_has_directory,\n",
    "    lf_has_files,\n",
    "    lf_has_bypass,\n",
    "    lf_has_overflow,\n",
    "    lf_has_buffer,\n",
    "    lf_has_heap,\n",
    "]\n",
    "len(lfs)"
   ]
  },
  {
   "cell_type": "code",
   "execution_count": 36,
   "id": "c2a258b5-f937-46d1-b903-80f9ef4705a9",
   "metadata": {
    "tags": []
   },
   "outputs": [
    {
     "name": "stderr",
     "output_type": "stream",
     "text": [
      "100%|██████████████████████████████████████████████████████████████████████████████████████████████████████████████████████████████| 4355/4355 [00:00<00:00, 13789.17it/s]\n"
     ]
    }
   ],
   "source": [
    "applier = PandasLFApplier(lfs=lfs)\n",
    "L_train = applier.apply(df=cves_none)"
   ]
  },
  {
   "cell_type": "code",
   "execution_count": 37,
   "id": "f10ae254-ff5f-4ee8-bbb2-d864fb87faca",
   "metadata": {
    "tags": []
   },
   "outputs": [
    {
     "data": {
      "text/html": [
       "<div>\n",
       "<style scoped>\n",
       "    .dataframe tbody tr th:only-of-type {\n",
       "        vertical-align: middle;\n",
       "    }\n",
       "\n",
       "    .dataframe tbody tr th {\n",
       "        vertical-align: top;\n",
       "    }\n",
       "\n",
       "    .dataframe thead th {\n",
       "        text-align: right;\n",
       "    }\n",
       "</style>\n",
       "<table border=\"1\" class=\"dataframe\">\n",
       "  <thead>\n",
       "    <tr style=\"text-align: right;\">\n",
       "      <th></th>\n",
       "      <th>j</th>\n",
       "      <th>Polarity</th>\n",
       "      <th>Coverage</th>\n",
       "      <th>Overlaps</th>\n",
       "      <th>Conflicts</th>\n",
       "    </tr>\n",
       "  </thead>\n",
       "  <tbody>\n",
       "    <tr>\n",
       "      <th>lf_has_memory</th>\n",
       "      <td>0</td>\n",
       "      <td>[4]</td>\n",
       "      <td>0.052124</td>\n",
       "      <td>0.032606</td>\n",
       "      <td>0.032606</td>\n",
       "    </tr>\n",
       "    <tr>\n",
       "      <th>lf_has_corruption</th>\n",
       "      <td>1</td>\n",
       "      <td>[4]</td>\n",
       "      <td>0.124684</td>\n",
       "      <td>0.124225</td>\n",
       "      <td>0.124225</td>\n",
       "    </tr>\n",
       "    <tr>\n",
       "      <th>lf_has_gain</th>\n",
       "      <td>2</td>\n",
       "      <td>[1]</td>\n",
       "      <td>0.006889</td>\n",
       "      <td>0.002526</td>\n",
       "      <td>0.002526</td>\n",
       "    </tr>\n",
       "    <tr>\n",
       "      <th>lf_has_privilege</th>\n",
       "      <td>3</td>\n",
       "      <td>[1]</td>\n",
       "      <td>0.388060</td>\n",
       "      <td>0.342365</td>\n",
       "      <td>0.342365</td>\n",
       "    </tr>\n",
       "    <tr>\n",
       "      <th>lf_has_gain_privilege</th>\n",
       "      <td>4</td>\n",
       "      <td>[]</td>\n",
       "      <td>0.000000</td>\n",
       "      <td>0.000000</td>\n",
       "      <td>0.000000</td>\n",
       "    </tr>\n",
       "    <tr>\n",
       "      <th>lf_has_obtain</th>\n",
       "      <td>5</td>\n",
       "      <td>[3]</td>\n",
       "      <td>0.009185</td>\n",
       "      <td>0.005511</td>\n",
       "      <td>0.005511</td>\n",
       "    </tr>\n",
       "    <tr>\n",
       "      <th>lf_has_information</th>\n",
       "      <td>6</td>\n",
       "      <td>[3]</td>\n",
       "      <td>0.193800</td>\n",
       "      <td>0.162113</td>\n",
       "      <td>0.162113</td>\n",
       "    </tr>\n",
       "    <tr>\n",
       "      <th>lf_has_sql</th>\n",
       "      <td>7</td>\n",
       "      <td>[2]</td>\n",
       "      <td>0.002755</td>\n",
       "      <td>0.002526</td>\n",
       "      <td>0.002526</td>\n",
       "    </tr>\n",
       "    <tr>\n",
       "      <th>lf_has_injection</th>\n",
       "      <td>8</td>\n",
       "      <td>[2]</td>\n",
       "      <td>0.003444</td>\n",
       "      <td>0.001378</td>\n",
       "      <td>0.001378</td>\n",
       "    </tr>\n",
       "    <tr>\n",
       "      <th>lf_has_csrf</th>\n",
       "      <td>9</td>\n",
       "      <td>[]</td>\n",
       "      <td>0.000000</td>\n",
       "      <td>0.000000</td>\n",
       "      <td>0.000000</td>\n",
       "    </tr>\n",
       "    <tr>\n",
       "      <th>lf_has_code</th>\n",
       "      <td>10</td>\n",
       "      <td>[6]</td>\n",
       "      <td>0.028932</td>\n",
       "      <td>0.013318</td>\n",
       "      <td>0.013318</td>\n",
       "    </tr>\n",
       "    <tr>\n",
       "      <th>lf_has_execution</th>\n",
       "      <td>11</td>\n",
       "      <td>[6]</td>\n",
       "      <td>0.328588</td>\n",
       "      <td>0.327899</td>\n",
       "      <td>0.327899</td>\n",
       "    </tr>\n",
       "    <tr>\n",
       "      <th>lf_has_denial</th>\n",
       "      <td>12</td>\n",
       "      <td>[7]</td>\n",
       "      <td>0.001378</td>\n",
       "      <td>0.001378</td>\n",
       "      <td>0.000689</td>\n",
       "    </tr>\n",
       "    <tr>\n",
       "      <th>lf_has_service</th>\n",
       "      <td>13</td>\n",
       "      <td>[7]</td>\n",
       "      <td>0.070723</td>\n",
       "      <td>0.055568</td>\n",
       "      <td>0.054879</td>\n",
       "    </tr>\n",
       "    <tr>\n",
       "      <th>lf_has_crosssite</th>\n",
       "      <td>14</td>\n",
       "      <td>[]</td>\n",
       "      <td>0.000000</td>\n",
       "      <td>0.000000</td>\n",
       "      <td>0.000000</td>\n",
       "    </tr>\n",
       "    <tr>\n",
       "      <th>lf_has_scripting</th>\n",
       "      <td>15</td>\n",
       "      <td>[]</td>\n",
       "      <td>0.000000</td>\n",
       "      <td>0.000000</td>\n",
       "      <td>0.000000</td>\n",
       "    </tr>\n",
       "    <tr>\n",
       "      <th>lf_has_html</th>\n",
       "      <td>16</td>\n",
       "      <td>[9]</td>\n",
       "      <td>0.188978</td>\n",
       "      <td>0.119403</td>\n",
       "      <td>0.119403</td>\n",
       "    </tr>\n",
       "    <tr>\n",
       "      <th>lf_has_traversal</th>\n",
       "      <td>17</td>\n",
       "      <td>[10]</td>\n",
       "      <td>0.000459</td>\n",
       "      <td>0.000230</td>\n",
       "      <td>0.000230</td>\n",
       "    </tr>\n",
       "    <tr>\n",
       "      <th>lf_has_directory</th>\n",
       "      <td>18</td>\n",
       "      <td>[10]</td>\n",
       "      <td>0.003904</td>\n",
       "      <td>0.002296</td>\n",
       "      <td>0.001607</td>\n",
       "    </tr>\n",
       "    <tr>\n",
       "      <th>lf_has_files</th>\n",
       "      <td>19</td>\n",
       "      <td>[10]</td>\n",
       "      <td>0.030080</td>\n",
       "      <td>0.015844</td>\n",
       "      <td>0.015155</td>\n",
       "    </tr>\n",
       "    <tr>\n",
       "      <th>lf_has_bypass</th>\n",
       "      <td>20</td>\n",
       "      <td>[]</td>\n",
       "      <td>0.000000</td>\n",
       "      <td>0.000000</td>\n",
       "      <td>0.000000</td>\n",
       "    </tr>\n",
       "    <tr>\n",
       "      <th>lf_has_overflow</th>\n",
       "      <td>21</td>\n",
       "      <td>[]</td>\n",
       "      <td>0.000000</td>\n",
       "      <td>0.000000</td>\n",
       "      <td>0.000000</td>\n",
       "    </tr>\n",
       "    <tr>\n",
       "      <th>lf_has_buffer</th>\n",
       "      <td>22</td>\n",
       "      <td>[12]</td>\n",
       "      <td>0.019059</td>\n",
       "      <td>0.007118</td>\n",
       "      <td>0.006659</td>\n",
       "    </tr>\n",
       "    <tr>\n",
       "      <th>lf_has_heap</th>\n",
       "      <td>23</td>\n",
       "      <td>[12]</td>\n",
       "      <td>0.128129</td>\n",
       "      <td>0.126751</td>\n",
       "      <td>0.126292</td>\n",
       "    </tr>\n",
       "  </tbody>\n",
       "</table>\n",
       "</div>"
      ],
      "text/plain": [
       "                        j Polarity  Coverage  Overlaps  Conflicts\n",
       "lf_has_memory           0      [4]  0.052124  0.032606   0.032606\n",
       "lf_has_corruption       1      [4]  0.124684  0.124225   0.124225\n",
       "lf_has_gain             2      [1]  0.006889  0.002526   0.002526\n",
       "lf_has_privilege        3      [1]  0.388060  0.342365   0.342365\n",
       "lf_has_gain_privilege   4       []  0.000000  0.000000   0.000000\n",
       "lf_has_obtain           5      [3]  0.009185  0.005511   0.005511\n",
       "lf_has_information      6      [3]  0.193800  0.162113   0.162113\n",
       "lf_has_sql              7      [2]  0.002755  0.002526   0.002526\n",
       "lf_has_injection        8      [2]  0.003444  0.001378   0.001378\n",
       "lf_has_csrf             9       []  0.000000  0.000000   0.000000\n",
       "lf_has_code            10      [6]  0.028932  0.013318   0.013318\n",
       "lf_has_execution       11      [6]  0.328588  0.327899   0.327899\n",
       "lf_has_denial          12      [7]  0.001378  0.001378   0.000689\n",
       "lf_has_service         13      [7]  0.070723  0.055568   0.054879\n",
       "lf_has_crosssite       14       []  0.000000  0.000000   0.000000\n",
       "lf_has_scripting       15       []  0.000000  0.000000   0.000000\n",
       "lf_has_html            16      [9]  0.188978  0.119403   0.119403\n",
       "lf_has_traversal       17     [10]  0.000459  0.000230   0.000230\n",
       "lf_has_directory       18     [10]  0.003904  0.002296   0.001607\n",
       "lf_has_files           19     [10]  0.030080  0.015844   0.015155\n",
       "lf_has_bypass          20       []  0.000000  0.000000   0.000000\n",
       "lf_has_overflow        21       []  0.000000  0.000000   0.000000\n",
       "lf_has_buffer          22     [12]  0.019059  0.007118   0.006659\n",
       "lf_has_heap            23     [12]  0.128129  0.126751   0.126292"
      ]
     },
     "execution_count": 37,
     "metadata": {},
     "output_type": "execute_result"
    }
   ],
   "source": [
    "# Porcentagem de pontos que cada LF positiva\n",
    "# coverages = (L_train != ABSTAIN).mean(axis=0)\n",
    "# lfs_coverages = {lfs[i].__repr__().split(' ')[1].replace(',', ''): coverages[i] for i in range(len(lfs))}\n",
    "\n",
    "# for key, value in lfs_coverages.items():\n",
    "#     print(f'{value * 100:06.3f}% -- {key}')\n",
    "\n",
    "LFAnalysis(L=L_train, lfs=lfs).lf_summary()"
   ]
  },
  {
   "cell_type": "code",
   "execution_count": 49,
   "id": "88b1fe37-f268-4242-95e7-42423c14b613",
   "metadata": {
    "tags": []
   },
   "outputs": [
    {
     "name": "stderr",
     "output_type": "stream",
     "text": [
      "100%|██████████████████████████████████████████████████████████████████████████████████████████████████████████████████████████████| 500/500 [00:00<00:00, 1005.04epoch/s]\n"
     ]
    }
   ],
   "source": [
    "label_model = LabelModel(cardinality=13, verbose=False)\n",
    "label_model.fit(L_train=L_train, n_epochs=500, log_freq=100, seed=123)\n",
    "\n",
    "probs = label_model.predict_proba(L=L_train)\n",
    "y = probs_to_preds(probs, tie_break_policy='true-random')"
   ]
  },
  {
   "cell_type": "code",
   "execution_count": 61,
   "id": "66c9d383-5229-4cda-b8e0-759d3beb0bce",
   "metadata": {
    "tags": []
   },
   "outputs": [],
   "source": [
    "hist = []\n",
    "\n",
    "for l in range(1, 13):\n",
    "    hist.append(len([i for i in range(len(y)) if y[i] == l]))"
   ]
  },
  {
   "cell_type": "code",
   "execution_count": 65,
   "id": "a9e32ec4-8773-4daf-be51-e3e6ed070564",
   "metadata": {
    "tags": []
   },
   "outputs": [
    {
     "data": {
      "image/png": "[encoded data removed]",
      "text/plain": [
       "<Figure size 1500x500 with 1 Axes>"
      ]
     },
     "metadata": {},
     "output_type": "display_data"
    }
   ],
   "source": [
    "fig, ax = plt.subplots(figsize=(15, 5))\n",
    "\n",
    "plt.bar(\n",
    "    ['Gain priv.', 'SQL Inj.', 'Obtain info.', 'Memory c.', 'CSRF', 'Code exec.', 'DoS', 'CSS', 'HTTP RS', 'Directory tra.', 'Bypass', 'Overflow'],\n",
    "    hist,\n",
    "    label='CVEs classes',\n",
    "    color='#9BCEF8',\n",
    "    antialiased=True,\n",
    "    linestyle='dotted'\n",
    ")\n",
    "\n",
    "plt.ylim((0, 1400))\n",
    "\n",
    "plt.legend(\n",
    "    ncols=1, loc='best', fancybox=False, framealpha=1,\n",
    "    borderpad=0.4, edgecolor='black'\n",
    ")\n",
    "\n",
    "ax.set_xlabel('Class')\n",
    "ax.set_ylabel('Number of CVEs')\n",
    "\n",
    "plt.title('Android unlabeled CVEs class histogram -- Snorkel predictions')\n",
    "plt.tight_layout()\n",
    "\n",
    "plt.savefig('snorkel_none_class_distribution.png', dpi=300)"
   ]
  },
  {
   "cell_type": "code",
   "execution_count": 39,
   "id": "99ebab6d-c4f8-4ac4-b6ff-8d64ff53d309",
   "metadata": {
    "tags": []
   },
   "outputs": [
    {
     "name": "stderr",
     "output_type": "stream",
     "text": [
      "WARNING:gensim.models.word2vec:Effective 'alpha' higher than previous training cycles\n"
     ]
    },
    {
     "data": {
      "text/plain": [
       "(59353413, 79281720)"
      ]
     },
     "execution_count": 39,
     "metadata": {},
     "output_type": "execute_result"
    }
   ],
   "source": [
    "def preprocess(data):\n",
    "    for i in range(len(data)):\n",
    "        yield gensim.utils.simple_preprocess(data[i])\n",
    "\n",
    "documents = list(preprocess(all_summaries))\n",
    "\n",
    "gensim_word2vec = gensim.models.Word2Vec(\n",
    "    documents,\n",
    "    vector_size=VECTOR_SIZE,\n",
    "    window=WINDOW_SIZE,\n",
    "    min_count=MIN_COUNT,\n",
    "    workers=WORKERS\n",
    ")\n",
    "\n",
    "gensim_word2vec.train(\n",
    "    documents,\n",
    "    total_examples=len(documents),\n",
    "    epochs=10\n",
    ")"
   ]
  },
  {
   "cell_type": "code",
   "execution_count": 40,
   "id": "9d2fc950-35f4-45a6-82fc-08dc8329f470",
   "metadata": {
    "tags": []
   },
   "outputs": [],
   "source": [
    "sentences = [gensim.utils.simple_preprocess(sentence) for sentence in none_summaries]\n",
    "\n",
    "X = []\n",
    "\n",
    "for sentence in sentences:\n",
    "    wvs = []\n",
    "    \n",
    "    for word in sentence:\n",
    "        try:\n",
    "            wvs.append(gensim_word2vec.wv[word])\n",
    "        except KeyError:\n",
    "            wvs.append(np.zeros(VECTOR_SIZE))\n",
    "            \n",
    "    X.append(np.mean(wvs, axis=0))"
   ]
  },
  {
   "cell_type": "code",
   "execution_count": 66,
   "id": "81066103-bf30-4043-96f2-e21f1d514622",
   "metadata": {
    "tags": []
   },
   "outputs": [
    {
     "name": "stderr",
     "output_type": "stream",
     "text": [
      "Stream: 100%|██████████████████████████| 4355/4355 [00:47<00:00, 91.66it/s]\n"
     ]
    }
   ],
   "source": [
    "model = HoeffdingTreeClassifier()\n",
    "STREAM_WINDOW_SIZE = 100\n",
    "\n",
    "s_preds = []\n",
    "\n",
    "window_preds = []\n",
    "window_y_snorkel = []\n",
    "\n",
    "f1s_snorkel = []\n",
    "\n",
    "for i in tqdm(range(len(X)), desc='Stream', ncols=75):\n",
    "    pred = model.predict_one(X[i])\n",
    "    \n",
    "    x = {j: X[i][j] for j in range(len(X[i]))}\n",
    "    model.learn_one(x, y[i])\n",
    "    \n",
    "    if pred is None:\n",
    "        pred = y[0]\n",
    "    \n",
    "    s_preds.append(pred)\n",
    "    window_preds.append(pred)\n",
    "    window_y_snorkel.append(y[i])\n",
    "    \n",
    "    if len(window_preds) >= STREAM_WINDOW_SIZE:\n",
    "        f1s_snorkel.append(f1_score(\n",
    "            window_y_snorkel,\n",
    "            window_preds,\n",
    "            average=\"macro\",\n",
    "            zero_division=0\n",
    "        ))\n",
    "        \n",
    "        window_preds.pop(0)\n",
    "        window_y_snorkel.pop(0)"
   ]
  },
  {
   "cell_type": "code",
   "execution_count": 41,
   "id": "c6ee4e3d-ecf9-459d-beb8-1779633d284c",
   "metadata": {
    "tags": []
   },
   "outputs": [],
   "source": [
    "def evaluate(labels, scores):\n",
    "    print(f'\\tAcc: {accuracy_score(labels, scores)}')\n",
    "    print(f'\\tPrecision macro: {precision_score(labels, scores, average=\"macro\", zero_division=0)}')\n",
    "    print(f'\\tPrecision micro: {precision_score(labels, scores, average=\"micro\", zero_division=0)}')\n",
    "    print(f'\\tRecall macro: {recall_score(labels, scores, average=\"macro\", zero_division=0)}')\n",
    "    print(f'\\tRecall micro: {recall_score(labels, scores, average=\"micro\", zero_division=0)}')\n",
    "    print(f'\\tF1 macro: {f1_score(labels, scores, average=\"macro\", zero_division=0)}')\n",
    "    print(f'\\tF1 micro: {f1_score(labels, scores, average=\"micro\", zero_division=0)}')"
   ]
  },
  {
   "cell_type": "code",
   "execution_count": 67,
   "id": "2fc92311-f7a1-446b-967b-2cb1b6493b54",
   "metadata": {
    "tags": []
   },
   "outputs": [
    {
     "name": "stdout",
     "output_type": "stream",
     "text": [
      "\n",
      "----Random Forest metrics - with Snorkels preds\n",
      "\tAcc: 0.3019517795637199\n",
      "\tPrecision macro: 0.10346107742770048\n",
      "\tPrecision micro: 0.3019517795637199\n",
      "\tRecall macro: 0.11544169173156951\n",
      "\tRecall micro: 0.3019517795637199\n",
      "\tF1 macro: 0.0763532207220265\n",
      "\tF1 micro: 0.3019517795637199\n",
      "----\n"
     ]
    }
   ],
   "source": [
    "print(f'\\n----Random Forest metrics - with Snorkels preds')\n",
    "evaluate(y, s_preds)\n",
    "print('----')"
   ]
  },
  {
   "cell_type": "code",
   "execution_count": 68,
   "id": "589e8809-1e1d-4bd6-b060-ee93fd7a2e45",
   "metadata": {
    "tags": []
   },
   "outputs": [
    {
     "data": {
      "image/png": "[encoded data removed]",
      "text/plain": [
       "<Figure size 1500x500 with 1 Axes>"
      ]
     },
     "metadata": {},
     "output_type": "display_data"
    }
   ],
   "source": [
    "fig, ax = plt.subplots(figsize=(15, 5))\n",
    "\n",
    "plot_x = range(len(f1s_snorkel))\n",
    "plt.plot(\n",
    "    plot_x,\n",
    "    f1s_snorkel,\n",
    "    label='Preq. F1',\n",
    "    color='red',\n",
    "    antialiased=True,\n",
    "    linewidth=2\n",
    ")\n",
    "\n",
    "plt.yticks(np.arange(0, 1.1, 0.1))\n",
    "plt.xticks(np.arange(0, len(plot_x) * 1.1, len(plot_x) * 0.1))\n",
    "plt.ylim((0, 1))\n",
    "plt.xlim((0, len(plot_x)))\n",
    "         \n",
    "plt.legend(\n",
    "    ncol=5, loc='best', fancybox=False, framealpha=1,\n",
    "    borderpad=0.4, edgecolor='black'\n",
    ")\n",
    "         \n",
    "ax.set_xlabel('Samples')\n",
    "ax.set_ylabel('F1')\n",
    "\n",
    "plt.title('Prequential F1 with unlabeled CVEs')\n",
    "plt.tight_layout()"
   ]
  }
 ],
 "metadata": {
  "kernelspec": {
   "display_name": "Python 3 (ipykernel)",
   "language": "python",
   "name": "python3"
  },
  "language_info": {
   "codemirror_mode": {
    "name": "ipython",
    "version": 3
   },
   "file_extension": ".py",
   "mimetype": "text/x-python",
   "name": "python",
   "nbconvert_exporter": "python",
   "pygments_lexer": "ipython3",
   "version": "3.10.10"
  }
 },
 "nbformat": 4,
 "nbformat_minor": 5
}
