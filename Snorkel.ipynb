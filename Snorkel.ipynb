{
 "cells": [
  {
   "cell_type": "code",
   "execution_count": 176,
   "id": "40d1513d-70f7-4bb9-8fa1-55e2a0af8ce0",
   "metadata": {
    "tags": []
   },
   "outputs": [],
   "source": [
    "import gensim\n",
    "\n",
    "import numpy as np\n",
    "import pandas as pd\n",
    "import matplotlib.pyplot as plt\n",
    "\n",
    "from snorkel.labeling import labeling_function, PandasLFApplier, LFAnalysis, filter_unlabeled_dataframe\n",
    "from snorkel.labeling.model import MajorityLabelVoter, LabelModel\n",
    "from snorkel.utils import probs_to_preds\n",
    "\n",
    "from sklearn.ensemble import RandomForestClassifier\n",
    "from sklearn.model_selection import train_test_split\n",
    "from sklearn.metrics import accuracy_score, f1_score, precision_score, recall_score, precision_recall_curve"
   ]
  },
  {
   "cell_type": "code",
   "execution_count": 150,
   "id": "b76532e0-6481-403d-903a-d685e3dfcf0f",
   "metadata": {
    "tags": []
   },
   "outputs": [],
   "source": [
    "VECTOR_SIZE = 300\n",
    "WINDOW_SIZE = 10\n",
    "MIN_COUNT = 2\n",
    "WORKERS = 12"
   ]
  },
  {
   "cell_type": "code",
   "execution_count": 2,
   "id": "da33455a-7ed7-4aad-9b4c-b20b2c2a099e",
   "metadata": {
    "tags": []
   },
   "outputs": [],
   "source": [
    "LABELS = {\n",
    "    'None': 0,\n",
    "    'Gain privileges': 1,\n",
    "    'Sql Injection': 2,\n",
    "    'Obtain Information': 3,\n",
    "    'Memory corruption': 4,\n",
    "    'CSRF': 5,\n",
    "    'Execute Code': 6,\n",
    "    'Denial Of Service': 7,\n",
    "    'Cross Site Scripting': 8,\n",
    "    'Http response splitting': 9,\n",
    "    'Directory traversal': 10,\n",
    "    'Bypass a restriction or similar': 11,\n",
    "    'Overflow': 12\n",
    "}\n",
    "ABSTAIN = -1"
   ]
  },
  {
   "cell_type": "code",
   "execution_count": 105,
   "id": "a483b212-59c6-4cb5-b527-75561a2bd6d8",
   "metadata": {
    "tags": []
   },
   "outputs": [
    {
     "name": "stdout",
     "output_type": "stream",
     "text": [
      "Index(['id', 'Published', 'Modified', 'summary', 'cvss', 'cwe', 'labels'], dtype='object')\n"
     ]
    }
   ],
   "source": [
    "cves = pd.read_csv('cves_labeled.csv').drop('Unnamed: 0', axis=1).reset_index(drop=True)\n",
    "\n",
    "multiple_labels_idxs = [i for i in range(cves.shape[0]) if ',' in cves['labels'][i]]\n",
    "cves = cves.drop(multiple_labels_idxs).reset_index(drop=True)\n",
    "\n",
    "print(cves.columns)"
   ]
  },
  {
   "cell_type": "code",
   "execution_count": null,
   "id": "0494ea77-0331-4b25-b346-7560b2e0cca8",
   "metadata": {
    "tags": []
   },
   "outputs": [],
   "source": [
    "la = list(LABELS.keys())\n",
    "hist = []\n",
    "\n",
    "for l in la:\n",
    "    hist.append(len([i for i in range(cves.shape[0]) if cves['labels'][i] == l]))\n",
    "\n",
    "plt.scatter(LABELS.values(), hist)\n",
    "plt.show()\n",
    "\n",
    "print(hist)"
   ]
  },
  {
   "cell_type": "code",
   "execution_count": 90,
   "id": "61d23960-d2c1-47a0-b200-f4e42bd0f445",
   "metadata": {
    "tags": []
   },
   "outputs": [],
   "source": [
    "def print_most_used_words_in_cves_by_label(label, words_count=10):\n",
    "    cves_memory = cves[cves['labels'] == label].reset_index(drop=True)\n",
    "    print(f'{label} - cves count: {cves_memory.shape[0]}')\n",
    "    memory_words_count = {}\n",
    "    for summary in cves_memory['summary'].to_numpy():\n",
    "        words = summary.lower().split(' ')\n",
    "        for word in words:\n",
    "            if len(word) < 3:\n",
    "                continue\n",
    "\n",
    "            if word in memory_words_count.keys():\n",
    "                memory_words_count[word] += 1\n",
    "            else:\n",
    "                memory_words_count[word] = 1\n",
    "\n",
    "    sorted_count = dict(sorted(memory_words_count.items(), key=lambda item: item[1], reverse=True))\n",
    "    count = 0\n",
    "    for key, value in sorted_count.items():\n",
    "        if count == words_count:\n",
    "            break\n",
    "\n",
    "        print(f'\\t{key}: {value}')\n",
    "\n",
    "        count += 1\n",
    "    print()"
   ]
  },
  {
   "cell_type": "code",
   "execution_count": null,
   "id": "8c003282-5aca-4816-a8c5-9f7f2051e26c",
   "metadata": {
    "tags": []
   },
   "outputs": [],
   "source": [
    "# print_most_used_words_in_cves_by_label('Memory corruption', 10)\n",
    "# print_most_used_words_in_cves_by_label('Gain privileges', 10)\n",
    "# print_most_used_words_in_cves_by_label('Obtain Information', 10)\n",
    "print_most_used_words_in_cves_by_label('Overflow', 10)"
   ]
  },
  {
   "cell_type": "code",
   "execution_count": 98,
   "id": "da346199-6a7b-48d7-8944-86e02291da49",
   "metadata": {
    "tags": []
   },
   "outputs": [],
   "source": [
    "# Memory corruption labeling functions\n",
    "@labeling_function()\n",
    "def lf_has_memory(x):\n",
    "    return LABELS['Memory corruption'] if 'memory' in x.summary.lower() else ABSTAIN\n",
    "\n",
    "@labeling_function()\n",
    "def lf_has_corruption(x):\n",
    "    return LABELS['Memory corruption'] if 'corruption' in x.summary.lower() else ABSTAIN\n",
    "\n",
    "\n",
    "# Gain privileges labeling functions\n",
    "@labeling_function()\n",
    "def lf_has_gain(x):\n",
    "    return LABELS['Gain privileges'] if 'gain' in x.summary.lower() else ABSTAIN\n",
    "\n",
    "@labeling_function()\n",
    "def lf_has_privilege(x):\n",
    "    return LABELS['Gain privileges'] if 'privilege' in x.summary.lower() else ABSTAIN\n",
    "\n",
    "@labeling_function()\n",
    "def lf_has_gain_privilege(x):\n",
    "    return LABELS['Gain privileges'] if 'gain privilege' in x.summary.lower() else ABSTAIN\n",
    "\n",
    "\n",
    "# Obtain Information labeling functions\n",
    "@labeling_function()\n",
    "def lf_has_obtain(x):\n",
    "    return LABELS['Obtain Information'] if 'obtain' in x.summary.lower() else ABSTAIN\n",
    "\n",
    "@labeling_function()\n",
    "def lf_has_information(x):\n",
    "    return LABELS['Obtain Information'] if 'information' in x.summary.lower() else ABSTAIN\n",
    "\n",
    "@labeling_function()\n",
    "def lf_has_obtain_information(x):\n",
    "    return LABELS['Obtain Information'] if 'obtain information' in x.summary.lower() else ABSTAIN\n",
    "\n",
    "\n",
    "# None labeling functions\n",
    "@labeling_function()\n",
    "def lf_has_user(x):\n",
    "    return LABELS['None'] if 'user' in x.summary.lower() else ABSTAIN\n",
    "\n",
    "\n",
    "# Sql Injection labeling functions\n",
    "@labeling_function()\n",
    "def lf_has_sql(x):\n",
    "    return LABELS['Sql Injection'] if 'sql' in x.summary.lower() else ABSTAIN\n",
    "\n",
    "@labeling_function()\n",
    "def lf_has_injection(x):\n",
    "    return LABELS['Sql Injection'] if 'injection' in x.summary.lower() else ABSTAIN\n",
    "\n",
    "\n",
    "# CSRF labeling functions\n",
    "@labeling_function()\n",
    "def lf_has_csrf(x):\n",
    "    return LABELS['CSRF'] if 'csrf' in x.summary.lower() else ABSTAIN\n",
    "\n",
    "\n",
    "# Execute Code labeling functions\n",
    "@labeling_function()\n",
    "def lf_has_code(x):\n",
    "    return LABELS['Execute Code'] if 'code' in x.summary.lower() else ABSTAIN\n",
    "\n",
    "@labeling_function()\n",
    "def lf_has_execution(x):\n",
    "    return LABELS['Execute Code'] if 'execution' in x.summary.lower() else ABSTAIN\n",
    "\n",
    "\n",
    "# Denial Of Service labeling functions\n",
    "@labeling_function()\n",
    "def lf_has_denial(x):\n",
    "    return LABELS['Denial Of Service'] if 'denial' in x.summary.lower() else ABSTAIN\n",
    "\n",
    "@labeling_function()\n",
    "def lf_has_service(x):\n",
    "    return LABELS['Denial Of Service'] if 'service' in x.summary.lower() else ABSTAIN\n",
    "\n",
    "\n",
    "# Cross Site Scripting labeling functions\n",
    "@labeling_function()\n",
    "def lf_has_crosssite(x):\n",
    "    return LABELS['Cross Site Scripting'] if 'cross-site' in x.summary.lower() else ABSTAIN\n",
    "\n",
    "@labeling_function()\n",
    "def lf_has_scripting(x):\n",
    "    return LABELS['Cross Site Scripting'] if 'scripting' in x.summary.lower() else ABSTAIN\n",
    "\n",
    "\n",
    "# Http response splitting labeling functions\n",
    "@labeling_function()\n",
    "def lf_has_html(x):\n",
    "    return LABELS['Http response splitting'] if 'html' in x.summary.lower() else ABSTAIN\n",
    "\n",
    "\n",
    "# Directory traversal labeling functions\n",
    "@labeling_function()\n",
    "def lf_has_traversal(x):\n",
    "    return LABELS['Directory traversal'] if 'traversal' in x.summary.lower() else ABSTAIN\n",
    "\n",
    "@labeling_function()\n",
    "def lf_has_directory(x):\n",
    "    return LABELS['Directory traversal'] if 'directory' in x.summary.lower() else ABSTAIN\n",
    "\n",
    "@labeling_function()\n",
    "def lf_has_files(x):\n",
    "    return LABELS['Directory traversal'] if 'files' in x.summary.lower() else ABSTAIN\n",
    "\n",
    "\n",
    "# Bypass a restriction or similar labeling functions\n",
    "@labeling_function()\n",
    "def lf_has_bypass(x):\n",
    "    return LABELS['Bypass a restriction or similar'] if 'bypass' in x.summary.lower() else ABSTAIN\n",
    "\n",
    "\n",
    "# Overflow labeling functions\n",
    "@labeling_function()\n",
    "def lf_has_overflow(x):\n",
    "    return LABELS['Overflow'] if 'overflow' in x.summary.lower() else ABSTAIN\n",
    "\n",
    "@labeling_function()\n",
    "def lf_has_buffer(x):\n",
    "    return LABELS['Overflow'] if 'buffer' in x.summary.lower() else ABSTAIN\n",
    "\n",
    "@labeling_function()\n",
    "def lf_has_heap(x):\n",
    "    return LABELS['Overflow'] if 'heap' in x.summary.lower() else ABSTAIN"
   ]
  },
  {
   "cell_type": "code",
   "execution_count": 113,
   "id": "9c8b0ae4-8851-4cf4-a502-0ebb4a1f5c5f",
   "metadata": {
    "tags": []
   },
   "outputs": [],
   "source": [
    "lfs = [\n",
    "    lf_has_memory,\n",
    "    lf_has_corruption,\n",
    "    lf_has_gain,\n",
    "    lf_has_privilege,\n",
    "    lf_has_gain_privilege,\n",
    "    lf_has_obtain,\n",
    "    lf_has_information,\n",
    "    lf_has_user,\n",
    "    lf_has_sql,\n",
    "    lf_has_injection,\n",
    "    lf_has_code,\n",
    "    lf_has_execution,\n",
    "    lf_has_denial,\n",
    "    lf_has_service,\n",
    "    lf_has_crosssite,\n",
    "    lf_has_scripting,\n",
    "    lf_has_html,\n",
    "    lf_has_traversal,\n",
    "    lf_has_directory,\n",
    "    lf_has_files,\n",
    "    lf_has_bypass,\n",
    "    lf_has_overflow,\n",
    "    lf_has_buffer,\n",
    "    lf_has_heap,\n",
    "]"
   ]
  },
  {
   "cell_type": "code",
   "execution_count": 114,
   "id": "c2a258b5-f937-46d1-b903-80f9ef4705a9",
   "metadata": {
    "tags": []
   },
   "outputs": [
    {
     "name": "stderr",
     "output_type": "stream",
     "text": [
      "100%|██████████████████████████████████████████████████████████████████████████████████████████████████████████████████████████████████████████████| 9815/9815 [00:00<00:00, 13724.59it/s]\n"
     ]
    }
   ],
   "source": [
    "applier = PandasLFApplier(lfs=lfs)\n",
    "L_train = applier.apply(df=cves)"
   ]
  },
  {
   "cell_type": "code",
   "execution_count": 115,
   "id": "04161bd4-7d92-493a-ab13-f514e0bd04ba",
   "metadata": {
    "tags": []
   },
   "outputs": [],
   "source": [
    "y_train = pd.DataFrame([LABELS[l.strip()] for l in cves['labels'].to_list()])"
   ]
  },
  {
   "cell_type": "code",
   "execution_count": 116,
   "id": "f10ae254-ff5f-4ee8-bbb2-d864fb87faca",
   "metadata": {
    "tags": []
   },
   "outputs": [
    {
     "name": "stdout",
     "output_type": "stream",
     "text": [
      "06.816% -- lf_has_memory\n",
      "09.170% -- lf_has_corruption\n",
      "02.894% -- lf_has_gain\n",
      "32.094% -- lf_has_privilege\n",
      "02.354% -- lf_has_gain_privilege\n",
      "17.820% -- lf_has_obtain\n",
      "30.728% -- lf_has_information\n",
      "33.540% -- lf_has_user\n",
      "00.458% -- lf_has_sql\n",
      "00.550% -- lf_has_injection\n",
      "10.097% -- lf_has_code\n",
      "26.633% -- lf_has_execution\n",
      "05.807% -- lf_has_denial\n",
      "11.034% -- lf_has_service\n",
      "00.672% -- lf_has_crosssite\n",
      "00.611% -- lf_has_scripting\n",
      "13.653% -- lf_has_html\n",
      "00.489% -- lf_has_traversal\n",
      "00.683% -- lf_has_directory\n",
      "02.639% -- lf_has_files\n",
      "07.499% -- lf_has_bypass\n",
      "05.257% -- lf_has_overflow\n",
      "05.267% -- lf_has_buffer\n",
      "08.304% -- lf_has_heap\n"
     ]
    }
   ],
   "source": [
    "# Porcentagem de pontos que cada LF positiva\n",
    "coverages = (L_train != ABSTAIN).mean(axis=0)\n",
    "lfs_coverages = {lfs[i].__repr__().split(' ')[1].replace(',', ''): coverages[i] for i in range(len(lfs))}\n",
    "\n",
    "for key, value in lfs_coverages.items():\n",
    "    print(f'{value * 100:06.3f}% -- {key}')"
   ]
  },
  {
   "cell_type": "code",
   "execution_count": 117,
   "id": "226d0bfe-afe1-4267-95cc-bac8aa852bb6",
   "metadata": {
    "tags": []
   },
   "outputs": [
    {
     "data": {
      "text/html": [
       "<div>\n",
       "<style scoped>\n",
       "    .dataframe tbody tr th:only-of-type {\n",
       "        vertical-align: middle;\n",
       "    }\n",
       "\n",
       "    .dataframe tbody tr th {\n",
       "        vertical-align: top;\n",
       "    }\n",
       "\n",
       "    .dataframe thead th {\n",
       "        text-align: right;\n",
       "    }\n",
       "</style>\n",
       "<table border=\"1\" class=\"dataframe\">\n",
       "  <thead>\n",
       "    <tr style=\"text-align: right;\">\n",
       "      <th></th>\n",
       "      <th>j</th>\n",
       "      <th>Polarity</th>\n",
       "      <th>Coverage</th>\n",
       "      <th>Overlaps</th>\n",
       "      <th>Conflicts</th>\n",
       "    </tr>\n",
       "  </thead>\n",
       "  <tbody>\n",
       "    <tr>\n",
       "      <th>lf_has_memory</th>\n",
       "      <td>0</td>\n",
       "      <td>[4]</td>\n",
       "      <td>0.068161</td>\n",
       "      <td>0.057667</td>\n",
       "      <td>0.054610</td>\n",
       "    </tr>\n",
       "    <tr>\n",
       "      <th>lf_has_corruption</th>\n",
       "      <td>1</td>\n",
       "      <td>[4]</td>\n",
       "      <td>0.091696</td>\n",
       "      <td>0.091493</td>\n",
       "      <td>0.088436</td>\n",
       "    </tr>\n",
       "    <tr>\n",
       "      <th>lf_has_gain</th>\n",
       "      <td>2</td>\n",
       "      <td>[1]</td>\n",
       "      <td>0.028935</td>\n",
       "      <td>0.027713</td>\n",
       "      <td>0.011105</td>\n",
       "    </tr>\n",
       "    <tr>\n",
       "      <th>lf_has_privilege</th>\n",
       "      <td>3</td>\n",
       "      <td>[1]</td>\n",
       "      <td>0.320937</td>\n",
       "      <td>0.302191</td>\n",
       "      <td>0.285583</td>\n",
       "    </tr>\n",
       "    <tr>\n",
       "      <th>lf_has_gain_privilege</th>\n",
       "      <td>4</td>\n",
       "      <td>[1]</td>\n",
       "      <td>0.023535</td>\n",
       "      <td>0.023535</td>\n",
       "      <td>0.007030</td>\n",
       "    </tr>\n",
       "    <tr>\n",
       "      <th>lf_has_obtain</th>\n",
       "      <td>5</td>\n",
       "      <td>[3]</td>\n",
       "      <td>0.178197</td>\n",
       "      <td>0.176872</td>\n",
       "      <td>0.024249</td>\n",
       "    </tr>\n",
       "    <tr>\n",
       "      <th>lf_has_information</th>\n",
       "      <td>6</td>\n",
       "      <td>[3]</td>\n",
       "      <td>0.307285</td>\n",
       "      <td>0.279776</td>\n",
       "      <td>0.127152</td>\n",
       "    </tr>\n",
       "    <tr>\n",
       "      <th>lf_has_user</th>\n",
       "      <td>7</td>\n",
       "      <td>[0]</td>\n",
       "      <td>0.335405</td>\n",
       "      <td>0.311870</td>\n",
       "      <td>0.311870</td>\n",
       "    </tr>\n",
       "    <tr>\n",
       "      <th>lf_has_sql</th>\n",
       "      <td>8</td>\n",
       "      <td>[2]</td>\n",
       "      <td>0.004585</td>\n",
       "      <td>0.004585</td>\n",
       "      <td>0.003668</td>\n",
       "    </tr>\n",
       "    <tr>\n",
       "      <th>lf_has_injection</th>\n",
       "      <td>9</td>\n",
       "      <td>[2]</td>\n",
       "      <td>0.005502</td>\n",
       "      <td>0.004483</td>\n",
       "      <td>0.003566</td>\n",
       "    </tr>\n",
       "    <tr>\n",
       "      <th>lf_has_code</th>\n",
       "      <td>10</td>\n",
       "      <td>[6]</td>\n",
       "      <td>0.100968</td>\n",
       "      <td>0.081610</td>\n",
       "      <td>0.072746</td>\n",
       "    </tr>\n",
       "    <tr>\n",
       "      <th>lf_has_execution</th>\n",
       "      <td>11</td>\n",
       "      <td>[6]</td>\n",
       "      <td>0.266327</td>\n",
       "      <td>0.265920</td>\n",
       "      <td>0.257056</td>\n",
       "    </tr>\n",
       "    <tr>\n",
       "      <th>lf_has_denial</th>\n",
       "      <td>12</td>\n",
       "      <td>[7]</td>\n",
       "      <td>0.058074</td>\n",
       "      <td>0.058074</td>\n",
       "      <td>0.026184</td>\n",
       "    </tr>\n",
       "    <tr>\n",
       "      <th>lf_has_service</th>\n",
       "      <td>13</td>\n",
       "      <td>[7]</td>\n",
       "      <td>0.110341</td>\n",
       "      <td>0.104330</td>\n",
       "      <td>0.072440</td>\n",
       "    </tr>\n",
       "    <tr>\n",
       "      <th>lf_has_crosssite</th>\n",
       "      <td>14</td>\n",
       "      <td>[8]</td>\n",
       "      <td>0.006724</td>\n",
       "      <td>0.006521</td>\n",
       "      <td>0.006011</td>\n",
       "    </tr>\n",
       "    <tr>\n",
       "      <th>lf_has_scripting</th>\n",
       "      <td>15</td>\n",
       "      <td>[8]</td>\n",
       "      <td>0.006113</td>\n",
       "      <td>0.006113</td>\n",
       "      <td>0.005604</td>\n",
       "    </tr>\n",
       "    <tr>\n",
       "      <th>lf_has_html</th>\n",
       "      <td>16</td>\n",
       "      <td>[9]</td>\n",
       "      <td>0.136526</td>\n",
       "      <td>0.104330</td>\n",
       "      <td>0.104330</td>\n",
       "    </tr>\n",
       "    <tr>\n",
       "      <th>lf_has_traversal</th>\n",
       "      <td>17</td>\n",
       "      <td>[10]</td>\n",
       "      <td>0.004890</td>\n",
       "      <td>0.004075</td>\n",
       "      <td>0.001528</td>\n",
       "    </tr>\n",
       "    <tr>\n",
       "      <th>lf_has_directory</th>\n",
       "      <td>18</td>\n",
       "      <td>[10]</td>\n",
       "      <td>0.006826</td>\n",
       "      <td>0.006419</td>\n",
       "      <td>0.004075</td>\n",
       "    </tr>\n",
       "    <tr>\n",
       "      <th>lf_has_files</th>\n",
       "      <td>19</td>\n",
       "      <td>[10]</td>\n",
       "      <td>0.026388</td>\n",
       "      <td>0.021396</td>\n",
       "      <td>0.019154</td>\n",
       "    </tr>\n",
       "    <tr>\n",
       "      <th>lf_has_bypass</th>\n",
       "      <td>20</td>\n",
       "      <td>[11]</td>\n",
       "      <td>0.074987</td>\n",
       "      <td>0.056139</td>\n",
       "      <td>0.056139</td>\n",
       "    </tr>\n",
       "    <tr>\n",
       "      <th>lf_has_overflow</th>\n",
       "      <td>21</td>\n",
       "      <td>[12]</td>\n",
       "      <td>0.052573</td>\n",
       "      <td>0.050025</td>\n",
       "      <td>0.034743</td>\n",
       "    </tr>\n",
       "    <tr>\n",
       "      <th>lf_has_buffer</th>\n",
       "      <td>22</td>\n",
       "      <td>[12]</td>\n",
       "      <td>0.052674</td>\n",
       "      <td>0.043709</td>\n",
       "      <td>0.029343</td>\n",
       "    </tr>\n",
       "    <tr>\n",
       "      <th>lf_has_heap</th>\n",
       "      <td>23</td>\n",
       "      <td>[12]</td>\n",
       "      <td>0.083036</td>\n",
       "      <td>0.082425</td>\n",
       "      <td>0.080082</td>\n",
       "    </tr>\n",
       "  </tbody>\n",
       "</table>\n",
       "</div>"
      ],
      "text/plain": [
       "                        j Polarity  Coverage  Overlaps  Conflicts\n",
       "lf_has_memory           0      [4]  0.068161  0.057667   0.054610\n",
       "lf_has_corruption       1      [4]  0.091696  0.091493   0.088436\n",
       "lf_has_gain             2      [1]  0.028935  0.027713   0.011105\n",
       "lf_has_privilege        3      [1]  0.320937  0.302191   0.285583\n",
       "lf_has_gain_privilege   4      [1]  0.023535  0.023535   0.007030\n",
       "lf_has_obtain           5      [3]  0.178197  0.176872   0.024249\n",
       "lf_has_information      6      [3]  0.307285  0.279776   0.127152\n",
       "lf_has_user             7      [0]  0.335405  0.311870   0.311870\n",
       "lf_has_sql              8      [2]  0.004585  0.004585   0.003668\n",
       "lf_has_injection        9      [2]  0.005502  0.004483   0.003566\n",
       "lf_has_code            10      [6]  0.100968  0.081610   0.072746\n",
       "lf_has_execution       11      [6]  0.266327  0.265920   0.257056\n",
       "lf_has_denial          12      [7]  0.058074  0.058074   0.026184\n",
       "lf_has_service         13      [7]  0.110341  0.104330   0.072440\n",
       "lf_has_crosssite       14      [8]  0.006724  0.006521   0.006011\n",
       "lf_has_scripting       15      [8]  0.006113  0.006113   0.005604\n",
       "lf_has_html            16      [9]  0.136526  0.104330   0.104330\n",
       "lf_has_traversal       17     [10]  0.004890  0.004075   0.001528\n",
       "lf_has_directory       18     [10]  0.006826  0.006419   0.004075\n",
       "lf_has_files           19     [10]  0.026388  0.021396   0.019154\n",
       "lf_has_bypass          20     [11]  0.074987  0.056139   0.056139\n",
       "lf_has_overflow        21     [12]  0.052573  0.050025   0.034743\n",
       "lf_has_buffer          22     [12]  0.052674  0.043709   0.029343\n",
       "lf_has_heap            23     [12]  0.083036  0.082425   0.080082"
      ]
     },
     "execution_count": 117,
     "metadata": {},
     "output_type": "execute_result"
    }
   ],
   "source": [
    "LFAnalysis(L=L_train, lfs=lfs).lf_summary()"
   ]
  },
  {
   "cell_type": "code",
   "execution_count": null,
   "id": "67fb47f4-fdba-49d3-9cb4-dfccc039e544",
   "metadata": {
    "tags": []
   },
   "outputs": [],
   "source": [
    "majority_model = MajorityLabelVoter()\n",
    "majority_acc = majority_model.score(L=L_train, Y=y_train, tie_break_policy='random')['accuracy']"
   ]
  },
  {
   "cell_type": "code",
   "execution_count": 135,
   "id": "88b1fe37-f268-4242-95e7-42423c14b613",
   "metadata": {
    "tags": []
   },
   "outputs": [
    {
     "name": "stderr",
     "output_type": "stream",
     "text": [
      "100%|███████████████████████████████████████████████████████████████████████████████████████████████████████████████████████████████████████████████| 500/500 [00:00<00:00, 849.96epoch/s]\n"
     ]
    }
   ],
   "source": [
    "label_model = LabelModel(cardinality=len(LABELS), verbose=False)\n",
    "label_model.fit(L_train=L_train, n_epochs=500, log_freq=100, seed=123)\n",
    "probas = label_model.predict_proba(L=L_train)\n",
    "label_acc = label_model.score(L=L_train, Y=y_train, tie_break_policy='random')['accuracy']"
   ]
  },
  {
   "cell_type": "code",
   "execution_count": 127,
   "id": "88eb6425-9f97-4a13-9f2b-1ba796a7bf16",
   "metadata": {
    "tags": []
   },
   "outputs": [
    {
     "name": "stdout",
     "output_type": "stream",
     "text": [
      "--- Accuracies\n",
      "Label model: 50.759\n"
     ]
    }
   ],
   "source": [
    "print('--- Accuracies')\n",
    "# print(f'Majority model: {majority_acc * 100:06.03f}')\n",
    "print(f'Label model: {label_acc * 100:06.03f}')"
   ]
  },
  {
   "cell_type": "code",
   "execution_count": 152,
   "id": "1305fb74-fd45-464d-841f-ae7f95b5ad76",
   "metadata": {
    "tags": []
   },
   "outputs": [],
   "source": [
    "y = probs_to_preds(probs=probas)"
   ]
  },
  {
   "cell_type": "code",
   "execution_count": 151,
   "id": "9d2fc950-35f4-45a6-82fc-08dc8329f470",
   "metadata": {
    "tags": []
   },
   "outputs": [],
   "source": [
    "summaries = cves['summary'].to_numpy()\n",
    "\n",
    "def preprocess(data):\n",
    "    for i in range(len(data)):\n",
    "        yield gensim.utils.simple_preprocess(data[i])\n",
    "\n",
    "documents = list(preprocess(summaries))\n",
    "\n",
    "model = gensim.models.Word2Vec(\n",
    "    documents,\n",
    "    vector_size=VECTOR_SIZE,\n",
    "    window=WINDOW_SIZE,\n",
    "    min_count=MIN_COUNT,\n",
    "    workers=WORKERS\n",
    ")\n",
    "\n",
    "model.train(\n",
    "    documents,\n",
    "    total_examples=len(documents),\n",
    "    epochs=10\n",
    ")\n",
    "\n",
    "sentences = [gensim.utils.simple_preprocess(sentence) for sentence in cves['summary'].to_numpy()]\n",
    "\n",
    "X = []\n",
    "\n",
    "for sentence in sentences:\n",
    "    wvs = []\n",
    "    \n",
    "    for word in sentence:\n",
    "        try:\n",
    "            wvs.append(model.wv[word])\n",
    "        except KeyError:\n",
    "            wvs.append(np.zeros(VECTOR_SIZE))\n",
    "            \n",
    "    X.append(np.mean(wvs, axis=0))"
   ]
  },
  {
   "cell_type": "code",
   "execution_count": 169,
   "id": "9de82fe6-05be-44d7-a3a3-98f2a3a5439f",
   "metadata": {
    "tags": []
   },
   "outputs": [],
   "source": [
    "X_train, X_test, y_train, y_test = train_test_split(X, y, test_size=0.33, random_state=42)"
   ]
  },
  {
   "cell_type": "code",
   "execution_count": 157,
   "id": "f83a1fd2-f0ec-46d3-9db1-1dcd3df41ffc",
   "metadata": {
    "tags": []
   },
   "outputs": [],
   "source": [
    "def evaluate(labels, scores):\n",
    "    print(f'\\tAcc: {accuracy_score(labels, scores)}')\n",
    "    print(f'\\tPrecision: {precision_score(labels, scores, average=\"micro\", zero_division=0)}')\n",
    "    print(f'\\tRecall: {recall_score(labels, scores, average=\"micro\", zero_division=0)}')\n",
    "    print(f'\\tF1: {f1_score(labels, scores, average=\"micro\", zero_division=0)}')"
   ]
  },
  {
   "cell_type": "code",
   "execution_count": 177,
   "id": "5de90318-34d7-4c9f-a6e8-73fa3a06ccf5",
   "metadata": {
    "tags": []
   },
   "outputs": [],
   "source": [
    "def train_with_random_forest():\n",
    "    clf = RandomForestClassifier(n_estimators=300, max_depth=20, random_state=42)\n",
    "    clf.fit(X_train, y_train)\n",
    "    y_pred = clf.predict(X_test)\n",
    "    print(f'\\n----Random Forest')\n",
    "    evaluate(y_test, y_pred)\n",
    "    print('----')"
   ]
  },
  {
   "cell_type": "code",
   "execution_count": 178,
   "id": "288f643d-8b41-4b3c-801f-f9144f9ae01c",
   "metadata": {
    "tags": []
   },
   "outputs": [
    {
     "name": "stdout",
     "output_type": "stream",
     "text": [
      "\n",
      "----Random Forest\n",
      "\tAcc: 0.7851188638468664\n",
      "\tPrecision: 0.7851188638468664\n",
      "\tRecall: 0.7851188638468664\n",
      "\tF1: 0.7851188638468664\n",
      "----\n"
     ]
    }
   ],
   "source": [
    "train_with_random_forest()"
   ]
  }
 ],
 "metadata": {
  "kernelspec": {
   "display_name": "Python 3 (ipykernel)",
   "language": "python",
   "name": "python3"
  },
  "language_info": {
   "codemirror_mode": {
    "name": "ipython",
    "version": 3
   },
   "file_extension": ".py",
   "mimetype": "text/x-python",
   "name": "python",
   "nbconvert_exporter": "python",
   "pygments_lexer": "ipython3",
   "version": "3.10.10"
  }
 },
 "nbformat": 4,
 "nbformat_minor": 5
}
